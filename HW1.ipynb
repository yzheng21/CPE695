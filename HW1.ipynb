{
 "cells": [
  {
   "cell_type": "code",
   "execution_count": 140,
   "metadata": {},
   "outputs": [
    {
     "name": "stdout",
     "output_type": "stream",
     "text": [
      "[[ 1.93978397]\n",
      " [ 2.91772965]\n",
      " [ 4.07123963]]\n"
     ]
    },
    {
     "data": {
      "image/png": "[encoded data removed]",
      "text/plain": [
       "<matplotlib.figure.Figure at 0x11ef77f0668>"
      ]
     },
     "metadata": {},
     "output_type": "display_data"
    },
    {
     "name": "stdout",
     "output_type": "stream",
     "text": [
      "[2.5019340335072537, 0.4206920536380182, 0.48936429330089037, 0.53061795257951994, 0.49900324294132314, 0.38077784012181304, 0.4049030901343818, 0.49844342608829773, 0.47283940317058432, 0.51299215816832677, 0.46513430405786099, 0.42881320643997223, 0.34706147573242996, 0.42665692100942137, 0.62592781626828886, 0.50350634052850007, 0.31968983041387539, 0.49243081349937057, 0.47302480109874701, 0.53049764233643137]\n",
      "[[ 1.86715983]\n",
      " [ 3.11751391]\n",
      " [ 4.15141267]]\n"
     ]
    }
   ],
   "source": [
    "import numpy as np\n",
    "import matplotlib.pyplot as plt\n",
    "from mpl_toolkits.mplot3d import Axes3D\n",
    "from numpy.linalg import inv\n",
    "x1 = 2 * np.random.rand(100, 1)\n",
    "x2 = 2 * np.random.rand(100, 1)\n",
    "y = 3 * x1 + 4 * x2 + np.random.randn(100, 1) + 2\n",
    "\n",
    "# add intercept which is 1 into x\n",
    "intercept = np.ones((100,1))\n",
    "x_b = np.c_[intercept, x1, x2]\n",
    "#normal equation\n",
    "theta = inv(x_b.T.dot(x_b)).dot(x_b.T).dot(y)\n",
    "print(theta)\n",
    "error_list =[]\n",
    "iter_list = []\n",
    "m = 100\n",
    "iters = 20\n",
    "\n",
    "#cost function\n",
    "def costFunction(x,y,theta):\n",
    "    # cost function\n",
    "    cost = np.sum((x.dot(theta) - y) ** 2) / (2 * m)\n",
    "    return cost\n",
    "\n",
    "#gradient decent\n",
    "def gradientDescent(x,y,theta,alpha,iters):\n",
    "\n",
    "    for iter in range(iters):\n",
    "        costs = 0\n",
    "        for i in range(m):\n",
    "            random_index = np.random.randint(m)     #select random row\n",
    "            xi = x_b[random_index:random_index + 1]\n",
    "            yi = y[random_index:random_index + 1]\n",
    "            gradients = 2 * xi.T.dot(xi.dot(theta) - yi)\n",
    "            theta = theta - alpha*gradients\n",
    "            costs += costFunction(xi,yi,theta)\n",
    "\n",
    "        error_list.append(costs)\n",
    "        iter_list.append(iter)\n",
    "        iter += 1\n",
    "    ax = plt.subplot(111)\n",
    "    ax.plot(iter_list,error_list)\n",
    "    ax.set_xlabel('epoch')\n",
    "    ax.set_ylabel('cost')\n",
    "    plt.show()\n",
    "    print(error_list)\n",
    "    print(theta)\n",
    "\n",
    "theta = np.random.rand(3,1)\n",
    "gradientDescent(x_b, y, theta, 0.01,iters) # alpha = 0.01\n"
   ]
  },
  {
   "cell_type": "code",
   "execution_count": 141,
   "metadata": {},
   "outputs": [
    {
     "name": "stdout",
     "output_type": "stream",
     "text": [
      "[[ 1.58235545]\n",
      " [ 2.99939278]\n",
      " [ 4.23892141]]\n"
     ]
    },
    {
     "data": {
      "image/png": "[encoded data removed]",
      "text/plain": [
       "<matplotlib.figure.Figure at 0x11ef7902860>"
      ]
     },
     "metadata": {},
     "output_type": "display_data"
    },
    {
     "name": "stdout",
     "output_type": "stream",
     "text": [
      "[18.007821429799836, 5.6524225219264013, 1.7989318315603533, 1.1623910353207343, 0.84899533278415984, 0.64164261335272188, 0.55095598094952192, 0.52626023176962722, 0.65299980934772128, 0.68225730489993486, 0.51188902734883324, 0.58636253150877649, 0.59155021359374438, 0.57341513699823021, 0.60572500669970886, 0.54347012214239132, 0.55061718394052961, 0.4375712582332561, 0.44649211821049706, 0.35088903170485419]\n",
      "[[ 2.3669151 ]\n",
      " [ 2.94959555]\n",
      " [ 3.5098167 ]]\n"
     ]
    }
   ],
   "source": [
    "import numpy as np\n",
    "import matplotlib.pyplot as plt\n",
    "from mpl_toolkits.mplot3d import Axes3D\n",
    "from numpy.linalg import inv\n",
    "x1 = 2 * np.random.rand(100, 1)\n",
    "x2 = 2 * np.random.rand(100, 1)\n",
    "y = 3 * x1 + 4 * x2 + np.random.randn(100, 1) + 2\n",
    "\n",
    "# add intercept which is 1 into x\n",
    "intercept = np.ones((100,1))\n",
    "x_b = np.c_[intercept, x1, x2]\n",
    "#normal equation\n",
    "theta = inv(x_b.T.dot(x_b)).dot(x_b.T).dot(y)\n",
    "print(theta)\n",
    "error_list =[]\n",
    "iter_list = []\n",
    "m = 100\n",
    "iters = 20\n",
    "\n",
    "#cost function\n",
    "def costFunction(x,y,theta):\n",
    "    # cost function\n",
    "    cost = np.sum((x.dot(theta) - y) ** 2) / (2 * m)\n",
    "    return cost\n",
    "\n",
    "#gradient decent\n",
    "def gradientDescent(x,y,theta,alpha,iters):\n",
    "\n",
    "    for iter in range(iters):\n",
    "        costs = 0\n",
    "        for i in range(m):\n",
    "            random_index = np.random.randint(m)     #select random row\n",
    "            xi = x_b[random_index:random_index + 1]\n",
    "            yi = y[random_index:random_index + 1]\n",
    "            gradients = 2 * xi.T.dot(xi.dot(theta) - yi)\n",
    "            theta = theta - alpha*gradients\n",
    "            costs += costFunction(xi,yi,theta)\n",
    "\n",
    "        error_list.append(costs)\n",
    "        iter_list.append(iter)\n",
    "        iter += 1\n",
    "    ax = plt.subplot(111)\n",
    "    ax.plot(iter_list,error_list)\n",
    "    ax.set_xlabel('epoch')\n",
    "    ax.set_ylabel('cost')\n",
    "    plt.show()\n",
    "    print(error_list)\n",
    "    print(theta)\n",
    "\n",
    "theta = np.random.rand(3,1)\n",
    "gradientDescent(x_b, y, theta, 0.001,iters) # alpha = 0.001"
   ]
  },
  {
   "cell_type": "code",
   "execution_count": null,
   "metadata": {
    "collapsed": true
   },
   "outputs": [],
   "source": []
  }
 ],
 "metadata": {
  "kernelspec": {
   "display_name": "Python [default]",
   "language": "python",
   "name": "python3"
  },
  "language_info": {
   "codemirror_mode": {
    "name": "ipython",
    "version": 3
   },
   "file_extension": ".py",
   "mimetype": "text/x-python",
   "name": "python",
   "nbconvert_exporter": "python",
   "pygments_lexer": "ipython3",
   "version": "3.5.4"
  }
 },
 "nbformat": 4,
 "nbformat_minor": 2
}
