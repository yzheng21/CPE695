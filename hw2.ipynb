{
 "cells": [
  {
   "cell_type": "code",
   "execution_count": 1,
   "metadata": {},
   "outputs": [
    {
     "name": "stdout",
     "output_type": "stream",
     "text": [
      "sum(H):583\n",
      "after Find_S algorithm, the hypothsis is : ['sunny', 'warm', '?', 'strong', '?', '?']\n",
      "mean_number_of_example is :29.15\n"
     ]
    }
   ],
   "source": [
    "import random\n",
    "attr = [['Sunny','Cloudy','Rainy'],['Warm','Cold'],\n",
    "        ['Normal','High'],['Strong','Weak'],['Warm','Cool'],['Same','Change']]\n",
    "\n",
    "def Find_S(D=[]):\n",
    "    h=[None]*len(attr)    #hypothsis init is None, len(h)=6\n",
    "    for s in D:\n",
    "        if s[-1] == 1:    #we just focus on positive status\n",
    "            index = 0\n",
    "            for p in s [:-1]:\n",
    "                if (h[index] == None):\n",
    "                    h[index] = p\n",
    "                elif (h[index] != p):\n",
    "                    h[index] = '?'\n",
    "                index +=1\n",
    "    return h\n",
    "# C is target sample\n",
    "# D is train sample\n",
    "def train_example(C=[]):\n",
    "    D=[]\n",
    "    D.append(attr[0][random.randint(0,2)]) #choose attr from ['Sunny','Cloudy','Rainy']\n",
    "    for i in range(1,len(attr)):\n",
    "        D.append(attr[i][random.randint(0,1)])\n",
    "    D.append(1)         #set the last column 1\n",
    "    for i in range(len(attr)):\n",
    "        if C[i]!='?' and C[i]!=D[i]:\n",
    "            D[-1] = 0     #if random training sample is not equal to target sample, set 0\n",
    "    return D\n",
    "\n",
    "def generate(C=[]):\n",
    "    S=[]\n",
    "    while Find_S(S) != C:\n",
    "        S.append(train_example(C))\n",
    "    #print(len(S))\n",
    "    return len(S)\n",
    "\n",
    "def main():\n",
    "    C = ['Sunny','Warm','?','?','?','?']\n",
    "    Data = [['sunny', 'warm', 'normal', 'strong', 'warm', 'same', 1],\n",
    "            ['sunny', 'warm', 'high', 'strong', 'warm', 'same', 1],\n",
    "            ['rainy', 'cold', 'high', 'strong', 'warm', 'change', 0],\n",
    "            ['sunny', 'warm', 'high', 'strong', 'cool', 'change', 1]]\n",
    "    iteration = 20\n",
    "    H = []\n",
    "    for i in range(iteration):\n",
    "        H.append(generate(C))\n",
    "    print(\"sum(H):\" + str(sum(H)))\n",
    "    mean_number_of_example = sum(H)/iteration\n",
    "\n",
    "    hypothsis = Find_S(Data)\n",
    "    print('after Find_S algorithm, the hypothsis is : ' + str(hypothsis))\n",
    "    print('mean_number_of_example is :' + str(mean_number_of_example) )\n",
    "\n",
    "if __name__=='__main__':\n",
    "    main()\n",
    "\n"
   ]
  },
  {
   "cell_type": "code",
   "execution_count": null,
   "metadata": {
    "collapsed": true
   },
   "outputs": [],
   "source": []
  }
 ],
 "metadata": {
  "kernelspec": {
   "display_name": "Python 3",
   "language": "python",
   "name": "python3"
  },
  "language_info": {
   "codemirror_mode": {
    "name": "ipython",
    "version": 3
   },
   "file_extension": ".py",
   "mimetype": "text/x-python",
   "name": "python",
   "nbconvert_exporter": "python",
   "pygments_lexer": "ipython3",
   "version": "3.5.4"
  }
 },
 "nbformat": 4,
 "nbformat_minor": 2
}
